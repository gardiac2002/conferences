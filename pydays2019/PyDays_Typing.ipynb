{
 "cells": [
  {
   "cell_type": "markdown",
   "metadata": {
    "slideshow": {
     "slide_type": "slide"
    }
   },
   "source": [
    "# MyPy and\n",
    "\n",
    "![title](buddy.jpg)"
   ]
  },
  {
   "cell_type": "markdown",
   "metadata": {
    "slideshow": {
     "slide_type": "slide"
    }
   },
   "source": [
    "# Who am I?\n",
    "\n",
    "- Philipp Konrad\n",
    "- Code Monkey at RadarServices\n",
    "- Trying to be a real monkey when not coding 🐒\n",
    "\n",
    "You can find the slides \n",
    "`https://github.com/gardiac2002/conferences/pydays2019`\n",
    "\n",
    "(The link is as well on the last slide)"
   ]
  },
  {
   "cell_type": "markdown",
   "metadata": {
    "slideshow": {
     "slide_type": "slide"
    }
   },
   "source": [
    "# What are dynamic and static typing?\n",
    "\n",
    "- **Dynamically typed** -> type checks when code runs (Python)\n",
    "- **Statically typed** -> at compile time (C, Rust)"
   ]
  },
  {
   "cell_type": "markdown",
   "metadata": {
    "slideshow": {
     "slide_type": "fragment"
    }
   },
   "source": [
    "**2014: Say hello to PEP 484 (Type Hints)** \n",
    "\n",
    "- Python **stays** a dynamically typed language\n",
    "- But we can create **type hints**\n",
    "- We can verify type hints before execution (**mypy**)."
   ]
  },
  {
   "cell_type": "markdown",
   "metadata": {
    "slideshow": {
     "slide_type": "slide"
    }
   },
   "source": [
    "# Why are type hints awesome?\n",
    "\n",
    "- Find bugs\n",
    "- Manage big projects better\n",
    "- Increase readability"
   ]
  },
  {
   "cell_type": "markdown",
   "metadata": {
    "slideshow": {
     "slide_type": "slide"
    }
   },
   "source": [
    "# Let's dive in!\n",
    "\n",
    "![title](woodie.jpg)"
   ]
  },
  {
   "cell_type": "markdown",
   "metadata": {
    "slideshow": {
     "slide_type": "slide"
    }
   },
   "source": [
    "## Type Hints are a feature of Python3"
   ]
  },
  {
   "cell_type": "markdown",
   "metadata": {
    "slideshow": {
     "slide_type": "slide"
    }
   },
   "source": [
    "## And you can use `mypy` to check your type hints"
   ]
  },
  {
   "cell_type": "code",
   "execution_count": 42,
   "metadata": {
    "slideshow": {
     "slide_type": "fragment"
    }
   },
   "outputs": [
    {
     "name": "stdout",
     "output_type": "stream",
     "text": [
      "your_amazing_project/test.py:2: error: No return value expected\r\n",
      "your_amazing_project/test.py:6: error: Incompatible return value type (got \"None\", expected \"int\")\r\n"
     ]
    }
   ],
   "source": [
    "!mypy your_amazing_project  # pip install mypy :)"
   ]
  },
  {
   "cell_type": "code",
   "execution_count": 43,
   "metadata": {
    "slideshow": {
     "slide_type": "slide"
    }
   },
   "outputs": [],
   "source": [
    "from IPython.core.magic import register_cell_magic\n",
    "from IPython import get_ipython\n",
    "from mypy import api\n",
    "\n",
    "@register_cell_magic\n",
    "def mypybuddy(line, cell):  # for this presentation only\n",
    "    cell = '\\n' + cell\n",
    "    mypy_result = api.run(['-c', cell] + line.split())\n",
    "\n",
    "    if mypy_result[0]:  \n",
    "        print(mypy_result[0])\n",
    "\n",
    "    if mypy_result[1]:  \n",
    "        print(mypy_result[1])"
   ]
  },
  {
   "cell_type": "code",
   "execution_count": 44,
   "metadata": {
    "slideshow": {
     "slide_type": "slide"
    }
   },
   "outputs": [
    {
     "name": "stdout",
     "output_type": "stream",
     "text": [
      "<string>:4: error: No return value expected\n",
      "\n"
     ]
    }
   ],
   "source": [
    "%%mypybuddy\n",
    "\n",
    "def nothing() -> None:\n",
    "    return 1"
   ]
  },
  {
   "cell_type": "markdown",
   "metadata": {
    "slideshow": {
     "slide_type": "slide"
    }
   },
   "source": [
    "## Mypy does not check for side effects or really bad code"
   ]
  },
  {
   "cell_type": "code",
   "execution_count": 45,
   "metadata": {
    "slideshow": {
     "slide_type": "fragment"
    }
   },
   "outputs": [],
   "source": [
    "%%mypybuddy\n",
    "\n",
    "def add_one(number: float) -> float:\n",
    "    print('[Side effect] Lunch nuclear missiles!')\n",
    "    return number + 1."
   ]
  },
  {
   "cell_type": "markdown",
   "metadata": {
    "slideshow": {
     "slide_type": "slide"
    }
   },
   "source": [
    "## By default, `mypy` does not demand typing."
   ]
  },
  {
   "cell_type": "code",
   "execution_count": 46,
   "metadata": {
    "slideshow": {
     "slide_type": "fragment"
    }
   },
   "outputs": [],
   "source": [
    "%%mypybuddy\n",
    "\n",
    "def add_two(number):\n",
    "    return number + 2"
   ]
  },
  {
   "cell_type": "markdown",
   "metadata": {
    "slideshow": {
     "slide_type": "slide"
    }
   },
   "source": [
    "## But we can be `--strict` about it"
   ]
  },
  {
   "cell_type": "code",
   "execution_count": 47,
   "metadata": {
    "slideshow": {
     "slide_type": "fragment"
    }
   },
   "outputs": [
    {
     "name": "stdout",
     "output_type": "stream",
     "text": [
      "<string>:3: error: Function is missing a type annotation\n",
      "\n"
     ]
    }
   ],
   "source": [
    "%%mypybuddy --strict\n",
    "\n",
    "def add_three(number):\n",
    "    return number + 3"
   ]
  },
  {
   "cell_type": "markdown",
   "metadata": {
    "slideshow": {
     "slide_type": "slide"
    }
   },
   "source": [
    "## How does typing work - with annotations!\n",
    "\n",
    "- `name` ==> string\n",
    "- `greeting` ==> string \n",
    "- and we return `->` `None`"
   ]
  },
  {
   "cell_type": "code",
   "execution_count": 48,
   "metadata": {
    "slideshow": {
     "slide_type": "-"
    }
   },
   "outputs": [],
   "source": [
    "def say_hello(name: str, greeting: str = 'Hello') -> None:\n",
    "    print(greeting + name)"
   ]
  },
  {
   "cell_type": "markdown",
   "metadata": {
    "slideshow": {
     "slide_type": "slide"
    }
   },
   "source": [
    "## How does `mypy` actually get those values, `name: str`?"
   ]
  },
  {
   "cell_type": "code",
   "execution_count": 49,
   "metadata": {
    "slideshow": {
     "slide_type": "fragment"
    }
   },
   "outputs": [
    {
     "data": {
      "text/plain": [
       "{'name': 'str', 'greeting': 'str', 'return': 'None'}"
      ]
     },
     "execution_count": 49,
     "metadata": {},
     "output_type": "execute_result"
    }
   ],
   "source": [
    "say_hello.__annotations__"
   ]
  },
  {
   "cell_type": "markdown",
   "metadata": {
    "slideshow": {
     "slide_type": "slide"
    }
   },
   "source": [
    "## **Python3.6+:** Inline type hints for variables"
   ]
  },
  {
   "cell_type": "code",
   "execution_count": 50,
   "metadata": {
    "slideshow": {
     "slide_type": "fragment"
    }
   },
   "outputs": [],
   "source": [
    "%%mypybuddy\n",
    "\n",
    "all_the_truth: float = 42.0"
   ]
  },
  {
   "cell_type": "markdown",
   "metadata": {
    "slideshow": {
     "slide_type": "slide"
    }
   },
   "source": [
    "## For variables: `typing.get_type_hints` !"
   ]
  },
  {
   "cell_type": "code",
   "execution_count": 51,
   "metadata": {
    "slideshow": {
     "slide_type": "fragment"
    }
   },
   "outputs": [
    {
     "data": {
      "text/plain": [
       "{'all_the_truth': float,\n",
       " 'magicians': typing.List[__main__.Magician],\n",
       " 'coordinates_pydays': typing.Tuple[float, float],\n",
       " 'magician': typing.Dict[str, typing.Union[str, int]],\n",
       " 'hogwarts': typing.List[__main__.Magician]}"
      ]
     },
     "execution_count": 51,
     "metadata": {},
     "output_type": "execute_result"
    }
   ],
   "source": [
    "import __main__\n",
    "from typing import get_type_hints\n",
    "\n",
    "all_the_truth: float = 42.1\n",
    "\n",
    "get_type_hints(__main__)"
   ]
  },
  {
   "cell_type": "markdown",
   "metadata": {
    "slideshow": {
     "slide_type": "slide"
    }
   },
   "source": [
    "## Or  `typing.get_type_hints` for functions"
   ]
  },
  {
   "cell_type": "code",
   "execution_count": 52,
   "metadata": {
    "slideshow": {
     "slide_type": "fragment"
    }
   },
   "outputs": [
    {
     "data": {
      "text/plain": [
       "{'name': str, 'greeting': str, 'return': NoneType}"
      ]
     },
     "execution_count": 52,
     "metadata": {},
     "output_type": "execute_result"
    }
   ],
   "source": [
    "def say_hello(name: str, greeting: str = 'Hello') -> None:\n",
    "    print(greeting + name)\n",
    "\n",
    "get_type_hints(say_hello)"
   ]
  },
  {
   "cell_type": "markdown",
   "metadata": {
    "slideshow": {
     "slide_type": "slide"
    }
   },
   "source": [
    "## Lists, Tuples, Dictionaries"
   ]
  },
  {
   "cell_type": "code",
   "execution_count": 53,
   "metadata": {
    "slideshow": {
     "slide_type": "fragment"
    }
   },
   "outputs": [],
   "source": [
    "%%mypybuddy\n",
    "\n",
    "magicians: list = ['Harry', 'Hermione', 'Albus']\n",
    "coordinates_pydays: tuple = (48.239481, 16.377372)\n",
    "magician: dict = {'name': 'Harry', 'age': 18}"
   ]
  },
  {
   "cell_type": "markdown",
   "metadata": {
    "slideshow": {
     "slide_type": "slide"
    }
   },
   "source": [
    "## But we want the types to be more precise!"
   ]
  },
  {
   "cell_type": "code",
   "execution_count": 54,
   "metadata": {
    "slideshow": {
     "slide_type": "fragment"
    }
   },
   "outputs": [],
   "source": [
    "# I am in the standard library - yeeeey!\n",
    "from typing import Dict, List, Tuple"
   ]
  },
  {
   "cell_type": "code",
   "execution_count": 55,
   "metadata": {
    "slideshow": {
     "slide_type": "fragment"
    }
   },
   "outputs": [],
   "source": [
    "magicians: List[str] = ['Harry', 'Hermione', 'Albus']"
   ]
  },
  {
   "cell_type": "code",
   "execution_count": 56,
   "metadata": {
    "slideshow": {
     "slide_type": "fragment"
    }
   },
   "outputs": [],
   "source": [
    "coordinates_pydays: Tuple[float, float] = (48.239481, 16.377372)"
   ]
  },
  {
   "cell_type": "code",
   "execution_count": 57,
   "metadata": {
    "slideshow": {
     "slide_type": "fragment"
    }
   },
   "outputs": [],
   "source": [
    "magician: Dict[str, str] = {'name': 'Harry', 'age': '18'}"
   ]
  },
  {
   "cell_type": "markdown",
   "metadata": {
    "slideshow": {
     "slide_type": "slide"
    }
   },
   "source": [
    "## `mypy --strict` helps us to be precise"
   ]
  },
  {
   "cell_type": "code",
   "execution_count": 58,
   "metadata": {
    "slideshow": {
     "slide_type": "-"
    }
   },
   "outputs": [
    {
     "name": "stdout",
     "output_type": "stream",
     "text": [
      "<string>:3: error: Implicit generic \"Any\". Use \"typing.List\" and specify generic parameters\n",
      "\n"
     ]
    }
   ],
   "source": [
    "%%mypybuddy --strict\n",
    "\n",
    "magicians: list = ['Harry', 'Hermione', 'Ingrid', 'Albus']"
   ]
  },
  {
   "cell_type": "markdown",
   "metadata": {
    "slideshow": {
     "slide_type": "slide"
    }
   },
   "source": [
    "## I want my dictionary to contain `str` or `int` as values "
   ]
  },
  {
   "cell_type": "code",
   "execution_count": 59,
   "metadata": {
    "slideshow": {
     "slide_type": "fragment"
    }
   },
   "outputs": [],
   "source": [
    "from typing import Dict, Union\n",
    "\n",
    "magician: Dict[str, Union[str, int]] = {'name': 'Harry', 'age': 18}"
   ]
  },
  {
   "cell_type": "markdown",
   "metadata": {
    "slideshow": {
     "slide_type": "slide"
    }
   },
   "source": [
    "## **Aliases** for better readability"
   ]
  },
  {
   "cell_type": "code",
   "execution_count": 60,
   "metadata": {
    "slideshow": {
     "slide_type": "fragment"
    }
   },
   "outputs": [],
   "source": [
    "Magician = Dict[str, Union[str, int, float]]"
   ]
  },
  {
   "cell_type": "code",
   "execution_count": 61,
   "metadata": {
    "slideshow": {
     "slide_type": "fragment"
    }
   },
   "outputs": [],
   "source": [
    "%%mypybuddy\n",
    "\n",
    "from typing import List, Dict, Union\n",
    "\n",
    "Magician = Dict[str, Union[str, int, float]]\n",
    "magician: Magician = {'name': 'Harry', 'age': '18'}"
   ]
  },
  {
   "cell_type": "markdown",
   "metadata": {
    "slideshow": {
     "slide_type": "slide"
    }
   },
   "source": [
    "## **Aliases** can be used in other type hints"
   ]
  },
  {
   "cell_type": "code",
   "execution_count": 62,
   "metadata": {
    "slideshow": {
     "slide_type": "fragment"
    }
   },
   "outputs": [],
   "source": [
    "magicians: List[Magician] = [\n",
    "    {'name': 'Harry', 'age': 18},\n",
    "    {'name': 'Hermione', 'age': 18},\n",
    "    {'name': 'Albus', 'age': float('NaN')},\n",
    "]"
   ]
  },
  {
   "cell_type": "markdown",
   "metadata": {
    "slideshow": {
     "slide_type": "slide"
    }
   },
   "source": [
    "## BUT, do not go fully berserk with type aliases!\n",
    "\n",
    "In the end, `mypy` uses the primitive types \n",
    "\n",
    "like `Dict[str, Union[str, int, float]]` etc.\n",
    "\n",
    "And you do **not** create new types / classes like a real `Magician`!"
   ]
  },
  {
   "cell_type": "markdown",
   "metadata": {
    "slideshow": {
     "slide_type": "slide"
    }
   },
   "source": [
    "## If you want a new `type`, better create a class / dataclass"
   ]
  },
  {
   "cell_type": "code",
   "execution_count": 63,
   "metadata": {
    "slideshow": {
     "slide_type": "fragment"
    }
   },
   "outputs": [
    {
     "data": {
      "text/plain": [
       "__main__.Magician"
      ]
     },
     "execution_count": 63,
     "metadata": {},
     "output_type": "execute_result"
    }
   ],
   "source": [
    "from dataclasses import dataclass\n",
    "\n",
    "@dataclass\n",
    "class Magician:\n",
    "    name: str\n",
    "    age: int\n",
    "\n",
    "# By the way, classes create new types :)\n",
    "type(Magician('Luna', 21))"
   ]
  },
  {
   "cell_type": "code",
   "execution_count": 64,
   "metadata": {
    "slideshow": {
     "slide_type": "fragment"
    }
   },
   "outputs": [
    {
     "data": {
      "text/plain": [
       "type"
      ]
     },
     "execution_count": 64,
     "metadata": {},
     "output_type": "execute_result"
    }
   ],
   "source": [
    "type(Magician)"
   ]
  },
  {
   "cell_type": "markdown",
   "metadata": {
    "slideshow": {
     "slide_type": "skip"
    }
   },
   "source": [
    "# `typing.Optional` for optional parameters"
   ]
  },
  {
   "cell_type": "code",
   "execution_count": 65,
   "metadata": {
    "slideshow": {
     "slide_type": "skip"
    }
   },
   "outputs": [],
   "source": [
    "from typing import Optional\n",
    "from random import choice\n",
    "\n",
    "Houses = List[str]\n",
    "Magicians = List[Magician]\n",
    "HouseAssignment = Dict[str, str]\n",
    "\n",
    "def sorting_hat(magicians: Magicians, houses: Optional[Houses]=None) \\\n",
    "    -> HouseAssignment:\n",
    "\n",
    "    if houses is None:\n",
    "        houses = ['Gryffindor', 'Hufflepuff', 'Ravenclaw', 'Slytherin']\n",
    "    \n",
    "    return {magician['name']: choice(houses) for magician in magicians}"
   ]
  },
  {
   "cell_type": "code",
   "execution_count": 66,
   "metadata": {
    "slideshow": {
     "slide_type": "skip"
    }
   },
   "outputs": [
    {
     "data": {
      "text/plain": [
       "{'Harry': 'Hufflepuff', 'Hermione': 'Ravenclaw'}"
      ]
     },
     "execution_count": 66,
     "metadata": {},
     "output_type": "execute_result"
    }
   ],
   "source": [
    "magicians: Magicians = [{'name': 'Harry', 'age': 18}, \n",
    "                        {'name': 'Hermione', 'age': 18},]\n",
    "sorting_hat(magicians)"
   ]
  },
  {
   "cell_type": "markdown",
   "metadata": {
    "slideshow": {
     "slide_type": "slide"
    }
   },
   "source": [
    "## If it walks like a duck and it quacks like a duck, then it must be a duck\n",
    "\n",
    "But what if we have a `tuple` of `Magicians`?"
   ]
  },
  {
   "cell_type": "code",
   "execution_count": 67,
   "metadata": {
    "slideshow": {
     "slide_type": "fragment"
    }
   },
   "outputs": [],
   "source": [
    "from typing import Iterable\n",
    "\n",
    "# Magicians = List[Magician]\n",
    "Magicians = Iterable[Magician]"
   ]
  },
  {
   "cell_type": "markdown",
   "metadata": {
    "slideshow": {
     "slide_type": "slide"
    }
   },
   "source": [
    "## Returning `None`, `Any` or `NoReturn`"
   ]
  },
  {
   "cell_type": "code",
   "execution_count": 68,
   "metadata": {
    "slideshow": {
     "slide_type": "fragment"
    }
   },
   "outputs": [],
   "source": [
    "from typing import NoReturn, Any\n",
    "\n",
    "def take_red_pill() -> NoReturn:\n",
    "    raise NotImplementedError()\n",
    "\n",
    "def nothing_will_be_returned() -> None:\n",
    "    pass\n",
    "\n",
    "# I accept everything\n",
    "def printer(anything: Any) -> None:\n",
    "    print(str(anything))"
   ]
  },
  {
   "cell_type": "markdown",
   "metadata": {
    "slideshow": {
     "slide_type": "slide"
    }
   },
   "source": [
    "## A `TypeVar` for every situation"
   ]
  },
  {
   "cell_type": "code",
   "execution_count": 69,
   "metadata": {
    "slideshow": {
     "slide_type": "fragment"
    }
   },
   "outputs": [
    {
     "name": "stdout",
     "output_type": "stream",
     "text": [
      "<string>:12: error: Revealed local types are:\n",
      "<string>:12: error: rector: builtins.str*\n",
      "<string>:12: error: the_answer_of_life: builtins.int*\n",
      "\n"
     ]
    }
   ],
   "source": [
    "%%mypybuddy\n",
    "\n",
    "from typing import TypeVar, Sequence\n",
    "T = TypeVar('T')\n",
    "\n",
    "def first(seq: Sequence[T]) -> T:   # Generic function\n",
    "    return seq[0]\n",
    "\n",
    "the_answer_of_life = first([42, 21, 10, 5])\n",
    "rector = first(['Albus', 'Severus'])\n",
    "\n",
    "reveal_locals()  # I reveal the inferred type!"
   ]
  },
  {
   "cell_type": "markdown",
   "metadata": {
    "slideshow": {
     "slide_type": "slide"
    }
   },
   "source": [
    "## What if we want to return and take a function?"
   ]
  },
  {
   "cell_type": "code",
   "execution_count": 70,
   "metadata": {
    "slideshow": {
     "slide_type": "fragment"
    }
   },
   "outputs": [],
   "source": [
    "from typing import Callable, Any\n",
    "\n",
    "def log(func: Callable) -> Callable:\n",
    "    # just some decorator logic ...\n",
    "    return func\n",
    "\n",
    "@log\n",
    "def example(a: int, b: int) -> int:\n",
    "    return a + b"
   ]
  },
  {
   "cell_type": "code",
   "execution_count": 71,
   "metadata": {
    "slideshow": {
     "slide_type": "slide"
    }
   },
   "outputs": [
    {
     "name": "stdout",
     "output_type": "stream",
     "text": [
      "<string>:5: error: Missing type parameters for generic type\n",
      "\n"
     ]
    }
   ],
   "source": [
    "%%mypybuddy  --strict\n",
    "\n",
    "from typing import Callable, Any\n",
    "\n",
    "def log(func: Callable) -> Callable:\n",
    "    # just some decorator logic ...\n",
    "    return func\n",
    "\n",
    "@log\n",
    "def example(a: int, b: int) -> int:\n",
    "    return a + b"
   ]
  },
  {
   "cell_type": "markdown",
   "metadata": {
    "slideshow": {
     "slide_type": "slide"
    }
   },
   "source": [
    "## Specify the parameters of the `Callable`!\n",
    "\n",
    "- `Callable[[parameters], return_type]`"
   ]
  },
  {
   "cell_type": "code",
   "execution_count": 72,
   "metadata": {
    "slideshow": {
     "slide_type": "fragment"
    }
   },
   "outputs": [
    {
     "data": {
      "text/plain": [
       "6"
      ]
     },
     "execution_count": 72,
     "metadata": {},
     "output_type": "execute_result"
    }
   ],
   "source": [
    "from typing import Callable\n",
    "                                # params     #return value\n",
    "def supply_threes(func: Callable[[int, int], int]) -> int:\n",
    "    return func(3, 3)\n",
    "\n",
    "\n",
    "def add(a: int, b: int) -> int:\n",
    "    return a + b\n",
    "\n",
    "supply_threes(add)"
   ]
  },
  {
   "cell_type": "code",
   "execution_count": 73,
   "metadata": {
    "slideshow": {
     "slide_type": "slide"
    }
   },
   "outputs": [],
   "source": [
    "%%mypybuddy --strict\n",
    "\n",
    "from typing import Callable\n",
    "                                # params     #return value\n",
    "def supply_threes(func: Callable[[int, int], int]) -> int:\n",
    "    return func(3, 3)\n",
    "\n",
    "\n",
    "def add(a: int, b: int) -> int:\n",
    "    return a + b\n",
    "\n",
    "supply_threes(add)"
   ]
  },
  {
   "cell_type": "markdown",
   "metadata": {
    "slideshow": {
     "slide_type": "skip"
    }
   },
   "source": [
    "## What about `*args` and `**kwargs`"
   ]
  },
  {
   "cell_type": "code",
   "execution_count": 74,
   "metadata": {
    "slideshow": {
     "slide_type": "skip"
    }
   },
   "outputs": [],
   "source": [
    "def function(*args: int, **kwargs: str) -> None:\n",
    "    pass\n",
    "\n",
    "function(1, 2, 3)\n",
    "function(a='a', b='b', c='c')"
   ]
  },
  {
   "cell_type": "markdown",
   "metadata": {
    "slideshow": {
     "slide_type": "slide"
    }
   },
   "source": [
    "## What about the length of something? Why do we speak about `len`?"
   ]
  },
  {
   "cell_type": "code",
   "execution_count": 75,
   "metadata": {
    "slideshow": {
     "slide_type": "fragment"
    }
   },
   "outputs": [
    {
     "data": {
      "text/plain": [
       "2"
      ]
     },
     "execution_count": 75,
     "metadata": {},
     "output_type": "execute_result"
    }
   ],
   "source": [
    "from typing import Sized\n",
    "\n",
    "def number_students(school: Sized) -> int:\n",
    "    return len(school)\n",
    "\n",
    "hogwarts: List[Magician] = [{'name': 'Harry', 'age': 18}, \n",
    "                            {'name': 'Albus', 'age': float('NaN')},]\n",
    "number_students(hogwarts)"
   ]
  },
  {
   "cell_type": "markdown",
   "metadata": {
    "slideshow": {
     "slide_type": "slide"
    }
   },
   "source": [
    "No `interfaces`, but an object implements certain methods which form a `protocol`:\n",
    "\n",
    "        We propose to use the term protocols for types supporting \n",
    "        structural subtyping. The reason is that the term iterator \n",
    "        protocol, for example, is widely understood in the community, \n",
    "        and coming up with a new term for this concept in a statically \n",
    "        typed context would just create confusion. (PEP554)\n",
    "\n",
    "The `typing` module provides already several `Protocols`:\n",
    "\n",
    "- Sized\n",
    "- Sequence\n",
    "- Container\n",
    "- Iterable \n",
    "- Awaitable\n",
    "- ContextManager."
   ]
  },
  {
   "cell_type": "markdown",
   "metadata": {
    "slideshow": {
     "slide_type": "slide"
    }
   },
   "source": [
    "## Define your own Protocols 🎩"
   ]
  },
  {
   "cell_type": "markdown",
   "metadata": {
    "slideshow": {
     "slide_type": "fragment"
    }
   },
   "source": [
    "Of course, you can define your own `Protocol` by subclassing `typing_extensions.Protocol` and implementing\n",
    "the methods without a body."
   ]
  },
  {
   "cell_type": "code",
   "execution_count": 76,
   "metadata": {
    "slideshow": {
     "slide_type": "fragment"
    }
   },
   "outputs": [],
   "source": [
    "# PEP 554 is still in work and a draft \n",
    "# however, it is already implemented in `mypy` and allows Protocols\n",
    "from typing_extensions import Protocol"
   ]
  },
  {
   "cell_type": "code",
   "execution_count": 77,
   "metadata": {
    "slideshow": {
     "slide_type": "slide"
    }
   },
   "outputs": [],
   "source": [
    "from typing import Iterable\n",
    "from typing_extensions import Protocol\n",
    "\n",
    "class SupportsClose(Protocol):\n",
    "    def close(self) -> None:\n",
    "        pass\n",
    "\n",
    "# No SupportsClose base class!\n",
    "class Resource:   \n",
    "    def release(self) -> None:\n",
    "        pass\n",
    "    \n",
    "    def close(self) -> None:\n",
    "       self.release()\n",
    "\n",
    "\n",
    "def close_all(items: Iterable[SupportsClose]) -> None:\n",
    "    for item in items:\n",
    "        item.close()\n",
    "\n",
    "close_all([Resource(), open('requirements.txt')])  # Okay!"
   ]
  },
  {
   "cell_type": "code",
   "execution_count": 78,
   "metadata": {
    "slideshow": {
     "slide_type": "skip"
    }
   },
   "outputs": [],
   "source": [
    "%%mypybuddy --strict\n",
    "\n",
    "class Magician:\n",
    "    \n",
    "    def __init__(self, name: str):\n",
    "        self.name = name\n",
    "        self.old_name: str = ''\n",
    "    \n",
    "    def transform(self, name: str) -> 'Magician':\n",
    "        transformed = Magician(name)\n",
    "        transformed.old_name = self.name\n",
    "        return transformed"
   ]
  },
  {
   "cell_type": "markdown",
   "metadata": {
    "slideshow": {
     "slide_type": "slide"
    }
   },
   "source": [
    "## How do use types / classes which we just defined?"
   ]
  },
  {
   "cell_type": "code",
   "execution_count": 79,
   "metadata": {
    "slideshow": {
     "slide_type": "fragment"
    }
   },
   "outputs": [],
   "source": [
    "from __future__ import annotations  # Python4!\n",
    "\n",
    "class Magician:\n",
    "    \n",
    "    def __init__(self, name: str):\n",
    "        self.name = name\n",
    "        self.old_name: str = ''\n",
    "    \n",
    "    def transform(self, name: str) -> Magician:\n",
    "        transformed = Magician(name)\n",
    "        transformed.old_name = self.name\n",
    "        return transformed\n",
    "    \n",
    "    # earlier\n",
    "    def old_transform(self, name: str) -> 'Magician':\n",
    "        ..."
   ]
  },
  {
   "cell_type": "markdown",
   "metadata": {
    "slideshow": {
     "slide_type": "slide"
    }
   },
   "source": [
    "# Thank you for your attention!\n",
    "\n",
    "![title](doggie.jpg)\n",
    "\n",
    "`https://github.com/gardiac2002/conferences/pydays`"
   ]
  },
  {
   "cell_type": "code",
   "execution_count": null,
   "metadata": {},
   "outputs": [],
   "source": []
  }
 ],
 "metadata": {
  "celltoolbar": "Slideshow",
  "kernelspec": {
   "display_name": "Python 3",
   "language": "python",
   "name": "python3"
  },
  "language_info": {
   "codemirror_mode": {
    "name": "ipython",
    "version": 3
   },
   "file_extension": ".py",
   "mimetype": "text/x-python",
   "name": "python",
   "nbconvert_exporter": "python",
   "pygments_lexer": "ipython3",
   "version": "3.7.0"
  }
 },
 "nbformat": 4,
 "nbformat_minor": 2
}
